{
 "cells": [
  {
   "cell_type": "code",
   "execution_count": 1,
   "metadata": {},
   "outputs": [],
   "source": [
    "# import the necessary packages\n",
    "import numpy as np\n",
    "import argparse\n",
    "import imutils\n",
    "import sys\n",
    "import cv2\n",
    "import os"
   ]
  },
  {
   "cell_type": "code",
   "execution_count": 2,
   "metadata": {},
   "outputs": [
    {
     "name": "stdout",
     "output_type": "stream",
     "text": [
      "Loaded model\n"
     ]
    }
   ],
   "source": [
    "model = os.path.join('/home/administrator/HA/resnet-34_kinetics.onnx')\n",
    "class_path = os.path.join('/home/administrator/HA/action_recognition_kinetics.txt')\n",
    "CLASSES = open(class_path).read().strip().split(\"\\n\")\n",
    "SAMPLE_DURATION = 16\n",
    "SAMPLE_SIZE = 112\n",
    "print('Loaded model')"
   ]
  },
  {
   "cell_type": "code",
   "execution_count": 3,
   "metadata": {},
   "outputs": [
    {
     "name": "stdout",
     "output_type": "stream",
     "text": [
      "[INFO] loading human activity recognition model...\n",
      "Model_loaded\n"
     ]
    }
   ],
   "source": [
    "# Read the model\n",
    "print(\"[INFO] loading human activity recognition model...\")\n",
    "net = cv2.dnn.readNet(model)\n",
    "#model = cv2.dnn.readNet(model)\n",
    "print(\"Model_loaded\")"
   ]
  },
  {
   "cell_type": "code",
   "execution_count": 4,
   "metadata": {},
   "outputs": [
    {
     "name": "stdout",
     "output_type": "stream",
     "text": [
      "640.0 480.0\n",
      "30.0\n"
     ]
    },
    {
     "ename": "KeyboardInterrupt",
     "evalue": "",
     "output_type": "error",
     "traceback": [
      "\u001b[0;31m---------------------------------------------------------------------------\u001b[0m",
      "\u001b[0;31mKeyboardInterrupt\u001b[0m                         Traceback (most recent call last)",
      "\u001b[0;32m<ipython-input-4-48a6554adfc9>\u001b[0m in \u001b[0;36m<module>\u001b[0;34m\u001b[0m\n\u001b[1;32m     38\u001b[0m     \u001b[0;31m# recognition predictions\u001b[0m\u001b[0;34m\u001b[0m\u001b[0;34m\u001b[0m\u001b[0;34m\u001b[0m\u001b[0m\n\u001b[1;32m     39\u001b[0m     \u001b[0mnet\u001b[0m\u001b[0;34m.\u001b[0m\u001b[0msetInput\u001b[0m\u001b[0;34m(\u001b[0m\u001b[0mblob\u001b[0m\u001b[0;34m)\u001b[0m\u001b[0;34m\u001b[0m\u001b[0;34m\u001b[0m\u001b[0m\n\u001b[0;32m---> 40\u001b[0;31m     \u001b[0moutputs\u001b[0m \u001b[0;34m=\u001b[0m \u001b[0mnet\u001b[0m\u001b[0;34m.\u001b[0m\u001b[0mforward\u001b[0m\u001b[0;34m(\u001b[0m\u001b[0;34m)\u001b[0m\u001b[0;34m\u001b[0m\u001b[0;34m\u001b[0m\u001b[0m\n\u001b[0m\u001b[1;32m     41\u001b[0m     \u001b[0mlabel\u001b[0m \u001b[0;34m=\u001b[0m \u001b[0mCLASSES\u001b[0m\u001b[0;34m[\u001b[0m\u001b[0mnp\u001b[0m\u001b[0;34m.\u001b[0m\u001b[0margmax\u001b[0m\u001b[0;34m(\u001b[0m\u001b[0moutputs\u001b[0m\u001b[0;34m)\u001b[0m\u001b[0;34m]\u001b[0m\u001b[0;34m\u001b[0m\u001b[0;34m\u001b[0m\u001b[0m\n\u001b[1;32m     42\u001b[0m \u001b[0;34m\u001b[0m\u001b[0m\n",
      "\u001b[0;31mKeyboardInterrupt\u001b[0m: "
     ]
    }
   ],
   "source": [
    "cap = cv2.VideoCapture(2)\n",
    "cap.set(5, 30)\n",
    "print(cap.get(3),cap.get(4))\n",
    "frameRate = cap.get(5)\n",
    "print(frameRate)\n",
    "count=0\n",
    "while True:\n",
    "    count+=1\n",
    "    frameId=count\n",
    "    # initialize the batch of frames that will be passed through the\n",
    "    # model\n",
    "    frames = []\n",
    "\n",
    "    # loop over the number of required sample frames\n",
    "    for i in range(0, SAMPLE_DURATION):\n",
    "        # read a frame from the video stream\n",
    "        (grabbed, frame) = cap.read()\n",
    "\n",
    "        # if the frame was not grabbed then we've reached the end of\n",
    "        # the video stream so exit the script\n",
    "        if not grabbed:\n",
    "            print(\"[INFO] no frame read from stream - exiting\")\n",
    "            sys.exit(0)\n",
    "\n",
    "        # otherwise, the frame was read so resize it and add it to\n",
    "        # our frames list\n",
    "        frame = imutils.resize(frame, width=400)\n",
    "        frames.append(frame)\n",
    "\n",
    "    # now that our frames array is filled we can construct our blob\n",
    "    blob = cv2.dnn.blobFromImages(frames, 1.0,\n",
    "        (SAMPLE_SIZE, SAMPLE_SIZE), (114.7748, 107.7354, 99.4750),\n",
    "        swapRB=True, crop=True)\n",
    "    blob = np.transpose(blob, (1, 0, 2, 3))\n",
    "    blob = np.expand_dims(blob, axis=0)\n",
    "\n",
    "    # pass the blob through the network to obtain our human activity\n",
    "    # recognition predictions\n",
    "    net.setInput(blob)\n",
    "    outputs = net.forward()\n",
    "    label = CLASSES[np.argmax(outputs)]\n",
    "\n",
    "    # loop over our frames\n",
    "    for frame in frames:\n",
    "        # draw the predicted activity on the frame\n",
    "        cv2.rectangle(frame, (0, 0), (300, 40), (0, 0, 0), -1)\n",
    "        cv2.putText(frame, label, (10, 25), cv2.FONT_HERSHEY_SIMPLEX,\n",
    "            0.8, (255, 255, 255), 2)\n",
    "\n",
    "        # display the frame to our screen\n",
    "        cv2.imshow(\"Activity Recognition\", frame)\n",
    "        key = cv2.waitKey(1) & 0xFF\n",
    "\n",
    "        # if the `q` key was pressed, break from the loop\n",
    "        if key == ord(\"q\"):\n",
    "            break"
   ]
  },
  {
   "cell_type": "code",
   "execution_count": null,
   "metadata": {},
   "outputs": [],
   "source": []
  },
  {
   "cell_type": "code",
   "execution_count": null,
   "metadata": {},
   "outputs": [],
   "source": []
  },
  {
   "cell_type": "code",
   "execution_count": null,
   "metadata": {},
   "outputs": [],
   "source": []
  },
  {
   "cell_type": "code",
   "execution_count": null,
   "metadata": {},
   "outputs": [],
   "source": []
  }
 ],
 "metadata": {
  "kernelspec": {
   "display_name": "Python 3",
   "language": "python",
   "name": "python3"
  },
  "language_info": {
   "codemirror_mode": {
    "name": "ipython",
    "version": 3
   },
   "file_extension": ".py",
   "mimetype": "text/x-python",
   "name": "python",
   "nbconvert_exporter": "python",
   "pygments_lexer": "ipython3",
   "version": "3.6.9"
  }
 },
 "nbformat": 4,
 "nbformat_minor": 2
}
